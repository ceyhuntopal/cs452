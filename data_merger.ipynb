{
 "cells": [
  {
   "cell_type": "code",
   "execution_count": 1,
   "id": "7c88382c-b0b6-4a14-8909-491734ccecd0",
   "metadata": {},
   "outputs": [],
   "source": [
    "import os, sys\n",
    "import pandas as pd"
   ]
  },
  {
   "cell_type": "code",
   "execution_count": 2,
   "id": "34d9c46f-c607-4c0c-afa9-1b8f7cdef7a0",
   "metadata": {},
   "outputs": [],
   "source": [
    "# Define paths & data type\n",
    "data_folder = \"data\" # Enter data folder name\n",
    "data_dir = os.path.join(os.getcwd(), data_folder)\n",
    "data_type = \".xls\""
   ]
  },
  {
   "cell_type": "code",
   "execution_count": 3,
   "id": "c703e73b-a6fa-4c1d-bbca-78d3732f83ba",
   "metadata": {},
   "outputs": [],
   "source": [
    "# Define columns to drop from the data frame\n",
    "columns_to_drop = ['Book Authors', 'Book Editors', 'Book Group Authors', 'Book Author Full Names', 'Book Series Subtitle', 'Conference Host', \n",
    "                   'Abstract', 'Reprint Addresses', 'Researcher Ids', 'ORCIDs', 'Funding Orgs', 'Funding Text', 'Cited References', \n",
    "                   '180 Day Usage Count', 'Since 2013 Usage Count', 'Publisher Address', 'Journal Abbreviation', 'Journal ISO Abbreviation',\n",
    "                   'Supplement', 'Special Issue', 'Part Number', 'Meeting Abstract', 'Start Page', 'End Page', 'Article Number', 'DOI Link',\n",
    "                   'Early Access Date', 'WoS Categories', 'Web of Science Index', 'IDS Number', 'Pubmed Id', 'Open Access Designations',\n",
    "                   'Highly Cited Status', 'Hot Paper Status', 'Date of Export', 'UT (Unique WOS ID)', 'Web of Science Record']"
   ]
  },
  {
   "cell_type": "code",
   "execution_count": 4,
   "id": "33331b32-1f21-43ff-9331-10bd43a4a123",
   "metadata": {},
   "outputs": [],
   "source": [
    "# Convert excel data to pandas data frame\n",
    "def convert(dir, type):\n",
    "    df = []\n",
    "    for file in os.listdir(dir):\n",
    "        if file.endswith(type):\n",
    "            df.append(pd.read_excel(os.path.join(dir, file)))\n",
    "    return df"
   ]
  },
  {
   "cell_type": "code",
   "execution_count": 5,
   "id": "32008870-081b-4061-8d6a-091ba04eaa1f",
   "metadata": {},
   "outputs": [],
   "source": [
    "# Modify data frames\n",
    "def modify(df, dcols, filler):\n",
    "    tmp = df.drop(dcols, axis=1)\n",
    "    tmp = tmp.fillna(filler)\n",
    "    return tmp"
   ]
  },
  {
   "cell_type": "code",
   "execution_count": 6,
   "id": "cf1c6d44-0192-417c-9cd2-b32171a90038",
   "metadata": {},
   "outputs": [],
   "source": [
    "dfs = convert(data_dir, data_type)\n",
    "for i in range(0, len(dfs)):\n",
    "    dfs[i] = modify(dfs[i], columns_to_drop, \"-\")"
   ]
  },
  {
   "cell_type": "code",
   "execution_count": 7,
   "id": "dc110e03-e04d-44bc-8ffe-6a80a5e93bbe",
   "metadata": {},
   "outputs": [],
   "source": [
    "merged_df = pd.concat(dfs, axis=0, ignore_index=True)\n",
    "merged_df.index += 1"
   ]
  },
  {
   "cell_type": "code",
   "execution_count": 8,
   "id": "0a8aaf35-fe72-4425-b485-75743f792c82",
   "metadata": {},
   "outputs": [],
   "source": [
    "merged_df.to_excel(\"merged_data.xlsx\")\n",
    "merged_df.to_pickle(\"merged_data.pkl\")"
   ]
  }
 ],
 "metadata": {
  "kernelspec": {
   "display_name": "Python 3 (ipykernel)",
   "language": "python",
   "name": "python3"
  },
  "language_info": {
   "codemirror_mode": {
    "name": "ipython",
    "version": 3
   },
   "file_extension": ".py",
   "mimetype": "text/x-python",
   "name": "python",
   "nbconvert_exporter": "python",
   "pygments_lexer": "ipython3",
   "version": "3.12.4"
  }
 },
 "nbformat": 4,
 "nbformat_minor": 5
}
