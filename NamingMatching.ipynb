{
 "cells": [
  {
   "cell_type": "code",
   "execution_count": 13,
   "id": "21625858-3993-4beb-a1fe-43c1015ecbdb",
   "metadata": {},
   "outputs": [
    {
     "name": "stdout",
     "output_type": "stream",
     "text": [
      "Similarity between 'Eldeleklioglu, Jale' and 'Jale Eldeleklioğlu': 97.2972972972973%\n",
      "The two names match!\n"
     ]
    }
   ],
   "source": [
    "from rapidfuzz import fuzz\n",
    "import unicodedata\n",
    "\n",
    "def normalize_text(text):\n",
    "    # Convert to lowercase, remove diacritics, and strip whitespace\n",
    "    text = unicodedata.normalize('NFKD', text)\n",
    "    text = ''.join(c for c in text if not unicodedata.combining(c))\n",
    "    return text.lower().strip()\n",
    "\n",
    "def compare_names(name1, name2):\n",
    "    # Normalize the names\n",
    "    name1 = normalize_text(name1)\n",
    "    name2 = normalize_text(name2)\n",
    "    \n",
    "    # Compute similarity using token-based matching\n",
    "    similarity_ratio = fuzz.token_sort_ratio(name1, name2)\n",
    "    \n",
    "    return similarity_ratio\n",
    "\n",
    "# Input strings\n",
    "name1 = \"Eldeleklioglu, Jale\"\n",
    "name2 = \"Jale Eldeleklioğlu\"\n",
    "\n",
    "# Compare the names\n",
    "similarity_ratio = compare_names(name1, name2)\n",
    "\n",
    "# Output the similarity score\n",
    "print(f\"Similarity between '{name1}' and '{name2}': {similarity_ratio}%\")\n",
    "\n",
    "# Threshold to decide if the names match\n",
    "threshold = 80  # Adjust based on requirements\n",
    "\n",
    "if similarity_ratio >= threshold:\n",
    "    print(\"The two names match!\")\n",
    "else:\n",
    "    print(\"The two names do not match.\")\n"
   ]
  },
  {
   "cell_type": "code",
   "execution_count": null,
   "id": "410d9087-ccac-4a0c-8a44-1446468bcd39",
   "metadata": {},
   "outputs": [],
   "source": []
  },
  {
   "cell_type": "code",
   "execution_count": null,
   "id": "ee10f099-8962-4ac5-bc5f-4957c32a0849",
   "metadata": {},
   "outputs": [],
   "source": []
  }
 ],
 "metadata": {
  "kernelspec": {
   "display_name": "Python (selenium-env)",
   "language": "python",
   "name": "selenium-env"
  },
  "language_info": {
   "codemirror_mode": {
    "name": "ipython",
    "version": 3
   },
   "file_extension": ".py",
   "mimetype": "text/x-python",
   "name": "python",
   "nbconvert_exporter": "python",
   "pygments_lexer": "ipython3",
   "version": "3.12.8"
  }
 },
 "nbformat": 4,
 "nbformat_minor": 5
}
